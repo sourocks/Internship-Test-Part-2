{
 "cells": [
  {
   "cell_type": "markdown",
   "id": "75f6ea93",
   "metadata": {},
   "source": [
    "# Internship Test Part 2\n",
    "Machine Learning Hackathon\n",
    "#innominions\n"
   ]
  },
  {
   "cell_type": "code",
   "execution_count": 1,
   "id": "b8fcb5c1",
   "metadata": {},
   "outputs": [],
   "source": [
    "#Import important libraries:\n",
    "import pandas as pd\n",
    "import numpy as np\n",
    "import matplotlib.pyplot as plt\n",
    "import seaborn as sns\n",
    "%matplotlib inline\n",
    "import warnings\n",
    "warnings.filterwarnings('ignore')"
   ]
  },
  {
   "cell_type": "markdown",
   "id": "cd36affc",
   "metadata": {},
   "source": [
    "Loading the Dataset:"
   ]
  },
  {
   "cell_type": "code",
   "execution_count": 26,
   "id": "8903673d",
   "metadata": {},
   "outputs": [],
   "source": [
    "data1 = pd.read_csv('data_2_var.csv',header=None)"
   ]
  },
  {
   "cell_type": "code",
   "execution_count": 32,
   "id": "c1da5f09",
   "metadata": {},
   "outputs": [],
   "source": [
    "data1.rename(columns={0:\"A\",1:\"B\"},inplace=True)"
   ]
  },
  {
   "cell_type": "code",
   "execution_count": 33,
   "id": "31f84a9c",
   "metadata": {},
   "outputs": [
    {
     "data": {
      "text/html": [
       "<div>\n",
       "<style scoped>\n",
       "    .dataframe tbody tr th:only-of-type {\n",
       "        vertical-align: middle;\n",
       "    }\n",
       "\n",
       "    .dataframe tbody tr th {\n",
       "        vertical-align: top;\n",
       "    }\n",
       "\n",
       "    .dataframe thead th {\n",
       "        text-align: right;\n",
       "    }\n",
       "</style>\n",
       "<table border=\"1\" class=\"dataframe\">\n",
       "  <thead>\n",
       "    <tr style=\"text-align: right;\">\n",
       "      <th></th>\n",
       "      <th>A</th>\n",
       "      <th>B</th>\n",
       "    </tr>\n",
       "  </thead>\n",
       "  <tbody>\n",
       "    <tr>\n",
       "      <th>0</th>\n",
       "      <td>-122.740667</td>\n",
       "      <td>-130.572085</td>\n",
       "    </tr>\n",
       "    <tr>\n",
       "      <th>1</th>\n",
       "      <td>-121.531419</td>\n",
       "      <td>-129.938929</td>\n",
       "    </tr>\n",
       "    <tr>\n",
       "      <th>2</th>\n",
       "      <td>-134.917019</td>\n",
       "      <td>-130.141832</td>\n",
       "    </tr>\n",
       "    <tr>\n",
       "      <th>3</th>\n",
       "      <td>-120.605951</td>\n",
       "      <td>-125.760932</td>\n",
       "    </tr>\n",
       "    <tr>\n",
       "      <th>4</th>\n",
       "      <td>-129.894781</td>\n",
       "      <td>-112.785214</td>\n",
       "    </tr>\n",
       "  </tbody>\n",
       "</table>\n",
       "</div>"
      ],
      "text/plain": [
       "            A           B\n",
       "0 -122.740667 -130.572085\n",
       "1 -121.531419 -129.938929\n",
       "2 -134.917019 -130.141832\n",
       "3 -120.605951 -125.760932\n",
       "4 -129.894781 -112.785214"
      ]
     },
     "execution_count": 33,
     "metadata": {},
     "output_type": "execute_result"
    }
   ],
   "source": [
    "data1.head(5)"
   ]
  },
  {
   "cell_type": "code",
   "execution_count": 34,
   "id": "8d22bcb4",
   "metadata": {},
   "outputs": [
    {
     "data": {
      "text/plain": [
       "(1111, 2)"
      ]
     },
     "execution_count": 34,
     "metadata": {},
     "output_type": "execute_result"
    }
   ],
   "source": [
    "data1.shape"
   ]
  },
  {
   "cell_type": "code",
   "execution_count": 35,
   "id": "03641d02",
   "metadata": {},
   "outputs": [
    {
     "data": {
      "text/html": [
       "<div>\n",
       "<style scoped>\n",
       "    .dataframe tbody tr th:only-of-type {\n",
       "        vertical-align: middle;\n",
       "    }\n",
       "\n",
       "    .dataframe tbody tr th {\n",
       "        vertical-align: top;\n",
       "    }\n",
       "\n",
       "    .dataframe thead th {\n",
       "        text-align: right;\n",
       "    }\n",
       "</style>\n",
       "<table border=\"1\" class=\"dataframe\">\n",
       "  <thead>\n",
       "    <tr style=\"text-align: right;\">\n",
       "      <th></th>\n",
       "      <th>A</th>\n",
       "      <th>B</th>\n",
       "    </tr>\n",
       "  </thead>\n",
       "  <tbody>\n",
       "    <tr>\n",
       "      <th>1106</th>\n",
       "      <td>-115.366669</td>\n",
       "      <td>121.000000</td>\n",
       "    </tr>\n",
       "    <tr>\n",
       "      <th>1107</th>\n",
       "      <td>-119.954237</td>\n",
       "      <td>123.609122</td>\n",
       "    </tr>\n",
       "    <tr>\n",
       "      <th>1108</th>\n",
       "      <td>-109.942155</td>\n",
       "      <td>127.197394</td>\n",
       "    </tr>\n",
       "    <tr>\n",
       "      <th>1109</th>\n",
       "      <td>-111.515368</td>\n",
       "      <td>128.170885</td>\n",
       "    </tr>\n",
       "    <tr>\n",
       "      <th>1110</th>\n",
       "      <td>-110.344221</td>\n",
       "      <td>123.087950</td>\n",
       "    </tr>\n",
       "  </tbody>\n",
       "</table>\n",
       "</div>"
      ],
      "text/plain": [
       "               A           B\n",
       "1106 -115.366669  121.000000\n",
       "1107 -119.954237  123.609122\n",
       "1108 -109.942155  127.197394\n",
       "1109 -111.515368  128.170885\n",
       "1110 -110.344221  123.087950"
      ]
     },
     "execution_count": 35,
     "metadata": {},
     "output_type": "execute_result"
    }
   ],
   "source": [
    "data1.tail(5)"
   ]
  },
  {
   "cell_type": "code",
   "execution_count": 36,
   "id": "d3d5f3d7",
   "metadata": {},
   "outputs": [
    {
     "data": {
      "text/plain": [
       "Index(['A', 'B'], dtype='object')"
      ]
     },
     "execution_count": 36,
     "metadata": {},
     "output_type": "execute_result"
    }
   ],
   "source": [
    "data1.columns"
   ]
  },
  {
   "cell_type": "code",
   "execution_count": 37,
   "id": "28f14981",
   "metadata": {},
   "outputs": [
    {
     "name": "stdout",
     "output_type": "stream",
     "text": [
      "<class 'pandas.core.frame.DataFrame'>\n",
      "RangeIndex: 1111 entries, 0 to 1110\n",
      "Data columns (total 2 columns):\n",
      " #   Column  Non-Null Count  Dtype  \n",
      "---  ------  --------------  -----  \n",
      " 0   A       1111 non-null   float64\n",
      " 1   B       1111 non-null   float64\n",
      "dtypes: float64(2)\n",
      "memory usage: 17.5 KB\n"
     ]
    }
   ],
   "source": [
    "data1.info()"
   ]
  },
  {
   "cell_type": "code",
   "execution_count": 38,
   "id": "d34f9fc7",
   "metadata": {},
   "outputs": [
    {
     "data": {
      "text/html": [
       "<div>\n",
       "<style scoped>\n",
       "    .dataframe tbody tr th:only-of-type {\n",
       "        vertical-align: middle;\n",
       "    }\n",
       "\n",
       "    .dataframe tbody tr th {\n",
       "        vertical-align: top;\n",
       "    }\n",
       "\n",
       "    .dataframe thead th {\n",
       "        text-align: right;\n",
       "    }\n",
       "</style>\n",
       "<table border=\"1\" class=\"dataframe\">\n",
       "  <thead>\n",
       "    <tr style=\"text-align: right;\">\n",
       "      <th></th>\n",
       "      <th>A</th>\n",
       "      <th>B</th>\n",
       "    </tr>\n",
       "  </thead>\n",
       "  <tbody>\n",
       "    <tr>\n",
       "      <th>count</th>\n",
       "      <td>1111.000000</td>\n",
       "      <td>1111.000000</td>\n",
       "    </tr>\n",
       "    <tr>\n",
       "      <th>mean</th>\n",
       "      <td>6.783026</td>\n",
       "      <td>-26.187358</td>\n",
       "    </tr>\n",
       "    <tr>\n",
       "      <th>std</th>\n",
       "      <td>79.383668</td>\n",
       "      <td>69.794973</td>\n",
       "    </tr>\n",
       "    <tr>\n",
       "      <th>min</th>\n",
       "      <td>-134.962839</td>\n",
       "      <td>-132.422167</td>\n",
       "    </tr>\n",
       "    <tr>\n",
       "      <th>25%</th>\n",
       "      <td>-53.521987</td>\n",
       "      <td>-77.000000</td>\n",
       "    </tr>\n",
       "    <tr>\n",
       "      <th>50%</th>\n",
       "      <td>15.737782</td>\n",
       "      <td>-46.072638</td>\n",
       "    </tr>\n",
       "    <tr>\n",
       "      <th>75%</th>\n",
       "      <td>76.134647</td>\n",
       "      <td>7.435231</td>\n",
       "    </tr>\n",
       "    <tr>\n",
       "      <th>max</th>\n",
       "      <td>134.605775</td>\n",
       "      <td>134.425495</td>\n",
       "    </tr>\n",
       "  </tbody>\n",
       "</table>\n",
       "</div>"
      ],
      "text/plain": [
       "                 A            B\n",
       "count  1111.000000  1111.000000\n",
       "mean      6.783026   -26.187358\n",
       "std      79.383668    69.794973\n",
       "min    -134.962839  -132.422167\n",
       "25%     -53.521987   -77.000000\n",
       "50%      15.737782   -46.072638\n",
       "75%      76.134647     7.435231\n",
       "max     134.605775   134.425495"
      ]
     },
     "execution_count": 38,
     "metadata": {},
     "output_type": "execute_result"
    }
   ],
   "source": [
    "data1.describe()"
   ]
  },
  {
   "cell_type": "markdown",
   "id": "5af5af7a",
   "metadata": {},
   "source": [
    "## Data Cleaning"
   ]
  },
  {
   "cell_type": "code",
   "execution_count": 39,
   "id": "63016339",
   "metadata": {},
   "outputs": [
    {
     "data": {
      "text/plain": [
       "A    0\n",
       "B    0\n",
       "dtype: int64"
      ]
     },
     "execution_count": 39,
     "metadata": {},
     "output_type": "execute_result"
    }
   ],
   "source": [
    "#Check for missing values:\n",
    "data1.isnull().sum()"
   ]
  },
  {
   "cell_type": "markdown",
   "id": "8ee8ae1b",
   "metadata": {},
   "source": [
    "There are no null values present"
   ]
  },
  {
   "cell_type": "code",
   "execution_count": 40,
   "id": "470d4609",
   "metadata": {},
   "outputs": [
    {
     "data": {
      "text/plain": [
       "<AxesSubplot:>"
      ]
     },
     "execution_count": 40,
     "metadata": {},
     "output_type": "execute_result"
    },
    {
     "data": {
      "image/png": "[encoded data removed]",
      "text/plain": [
       "<Figure size 432x288 with 2 Axes>"
      ]
     },
     "metadata": {
      "needs_background": "light"
     },
     "output_type": "display_data"
    }
   ],
   "source": [
    "sns.heatmap(data1.isnull())"
   ]
  },
  {
   "cell_type": "code",
   "execution_count": 41,
   "id": "1cebd28d",
   "metadata": {},
   "outputs": [
    {
     "name": "stdout",
     "output_type": "stream",
     "text": [
      "  in -122.7406674 =  0\n",
      "? in -122.7406674 =  0\n",
      "- in -122.7406674 =  0\n",
      " ? in -122.7406674 =  0\n",
      " - in -122.7406674 =  0\n",
      "?  in -122.7406674 =  0\n",
      "-  in -122.7406674 =  0\n",
      " ?  in -122.7406674 =  0\n",
      " -  in -122.7406674 =  0\n",
      "NA in -122.7406674 =  0\n",
      "N/A in -122.7406674 =  0\n",
      " NA in -122.7406674 =  0\n",
      " N/A in -122.7406674 =  0\n",
      "  in -130.5720846 =  0\n",
      "? in -130.5720846 =  0\n",
      "- in -130.5720846 =  0\n",
      " ? in -130.5720846 =  0\n",
      " - in -130.5720846 =  0\n",
      "?  in -130.5720846 =  0\n",
      "-  in -130.5720846 =  0\n",
      " ?  in -130.5720846 =  0\n",
      " -  in -130.5720846 =  0\n",
      "NA in -130.5720846 =  0\n",
      "N/A in -130.5720846 =  0\n",
      " NA in -130.5720846 =  0\n",
      " N/A in -130.5720846 =  0\n"
     ]
    }
   ],
   "source": [
    "#Checking for blank spaces, random characters in each column\n",
    "\n",
    "search =[\" \",\"?\",\"-\",\" ?\",\" -\",\"? \",\"- \",\" ? \",\" - \",\"NA\",\"N/A\",\" NA\",\" N/A\"]\n",
    "for c in DF:\n",
    "    for s in search:\n",
    "        print(f\"{s} in {c} = \",end= \" \")\n",
    "        print((DF[c] == s).sum())"
   ]
  },
  {
   "cell_type": "markdown",
   "id": "d9a3b1aa",
   "metadata": {},
   "source": [
    "There are no blank spaces, random characters in the columns"
   ]
  },
  {
   "cell_type": "code",
   "execution_count": 42,
   "id": "70af189a",
   "metadata": {},
   "outputs": [
    {
     "data": {
      "text/plain": [
       "A    991\n",
       "B    969\n",
       "dtype: int64"
      ]
     },
     "execution_count": 42,
     "metadata": {},
     "output_type": "execute_result"
    }
   ],
   "source": [
    "data1.nunique()"
   ]
  },
  {
   "cell_type": "code",
   "execution_count": 43,
   "id": "73fad29e",
   "metadata": {},
   "outputs": [
    {
     "data": {
      "text/html": [
       "<div>\n",
       "<style scoped>\n",
       "    .dataframe tbody tr th:only-of-type {\n",
       "        vertical-align: middle;\n",
       "    }\n",
       "\n",
       "    .dataframe tbody tr th {\n",
       "        vertical-align: top;\n",
       "    }\n",
       "\n",
       "    .dataframe thead th {\n",
       "        text-align: right;\n",
       "    }\n",
       "</style>\n",
       "<table border=\"1\" class=\"dataframe\">\n",
       "  <thead>\n",
       "    <tr style=\"text-align: right;\">\n",
       "      <th></th>\n",
       "      <th>A</th>\n",
       "      <th>B</th>\n",
       "    </tr>\n",
       "  </thead>\n",
       "  <tbody>\n",
       "    <tr>\n",
       "      <th>A</th>\n",
       "      <td>1.000000</td>\n",
       "      <td>0.455804</td>\n",
       "    </tr>\n",
       "    <tr>\n",
       "      <th>B</th>\n",
       "      <td>0.455804</td>\n",
       "      <td>1.000000</td>\n",
       "    </tr>\n",
       "  </tbody>\n",
       "</table>\n",
       "</div>"
      ],
      "text/plain": [
       "          A         B\n",
       "A  1.000000  0.455804\n",
       "B  0.455804  1.000000"
      ]
     },
     "execution_count": 43,
     "metadata": {},
     "output_type": "execute_result"
    }
   ],
   "source": [
    "data1.corr()"
   ]
  },
  {
   "cell_type": "markdown",
   "id": "6f67cefa",
   "metadata": {},
   "source": [
    "Here, the dataset has positive moderate correlation"
   ]
  },
  {
   "cell_type": "markdown",
   "id": "3da79ae2",
   "metadata": {},
   "source": [
    "### Interpreting Relationship between Dependent and Independent Variables\n",
    "Analyzing the Target Variable"
   ]
  },
  {
   "cell_type": "code",
   "execution_count": 44,
   "id": "96a75d9b",
   "metadata": {},
   "outputs": [
    {
     "data": {
      "text/plain": [
       "<AxesSubplot:xlabel='B', ylabel='Density'>"
      ]
     },
     "execution_count": 44,
     "metadata": {},
     "output_type": "execute_result"
    },
    {
     "data": {
      "image/png": "[encoded data removed]",
      "text/plain": [
       "<Figure size 432x288 with 1 Axes>"
      ]
     },
     "metadata": {
      "needs_background": "light"
     },
     "output_type": "display_data"
    }
   ],
   "source": [
    "sns.distplot(data1.B)"
   ]
  },
  {
   "cell_type": "code",
   "execution_count": 45,
   "id": "d4f9f0d0",
   "metadata": {},
   "outputs": [
    {
     "data": {
      "text/plain": [
       "<matplotlib.collections.PathCollection at 0x2a31b36dfd0>"
      ]
     },
     "execution_count": 45,
     "metadata": {},
     "output_type": "execute_result"
    },
    {
     "data": {
      "image/png": "[encoded data removed]",
      "text/plain": [
       "<Figure size 432x288 with 1 Axes>"
      ]
     },
     "metadata": {
      "needs_background": "light"
     },
     "output_type": "display_data"
    }
   ],
   "source": [
    "plt.scatter(data1[\"A\"],data1['B'])"
   ]
  },
  {
   "cell_type": "markdown",
   "id": "5bc557f9",
   "metadata": {},
   "source": [
    "scatter plot os forming towards upward. so, both the column reflect positive relation"
   ]
  },
  {
   "cell_type": "code",
   "execution_count": 47,
   "id": "cdd2c958",
   "metadata": {},
   "outputs": [],
   "source": [
    "#detecting outliers\n",
    "\n",
    "from scipy.stats import zscore\n",
    "\n",
    "zscor = zscore(data1)\n",
    "z_score_abs = np.abs(zscor)\n",
    "\n",
    "data2 = data1[(z_score_abs < 3).all(axis=1)]"
   ]
  },
  {
   "cell_type": "code",
   "execution_count": 48,
   "id": "f751123e",
   "metadata": {},
   "outputs": [
    {
     "data": {
      "text/plain": [
       "(1111, 2)"
      ]
     },
     "execution_count": 48,
     "metadata": {},
     "output_type": "execute_result"
    }
   ],
   "source": [
    "data2.shape"
   ]
  },
  {
   "cell_type": "markdown",
   "id": "6589e10f",
   "metadata": {},
   "source": [
    "Separating the independent and target variables into x and y"
   ]
  },
  {
   "cell_type": "code",
   "execution_count": 50,
   "id": "12d26992",
   "metadata": {},
   "outputs": [],
   "source": [
    "X=pd.DataFrame({\"A\":data2[\"A\"]})\n",
    "Y=pd.DataFrame({\"B\":data2[\"B\"]})"
   ]
  },
  {
   "cell_type": "code",
   "execution_count": 51,
   "id": "cb37f9da",
   "metadata": {},
   "outputs": [
    {
     "data": {
      "text/html": [
       "<div>\n",
       "<style scoped>\n",
       "    .dataframe tbody tr th:only-of-type {\n",
       "        vertical-align: middle;\n",
       "    }\n",
       "\n",
       "    .dataframe tbody tr th {\n",
       "        vertical-align: top;\n",
       "    }\n",
       "\n",
       "    .dataframe thead th {\n",
       "        text-align: right;\n",
       "    }\n",
       "</style>\n",
       "<table border=\"1\" class=\"dataframe\">\n",
       "  <thead>\n",
       "    <tr style=\"text-align: right;\">\n",
       "      <th></th>\n",
       "      <th>A</th>\n",
       "    </tr>\n",
       "  </thead>\n",
       "  <tbody>\n",
       "    <tr>\n",
       "      <th>0</th>\n",
       "      <td>-122.740667</td>\n",
       "    </tr>\n",
       "    <tr>\n",
       "      <th>1</th>\n",
       "      <td>-121.531419</td>\n",
       "    </tr>\n",
       "    <tr>\n",
       "      <th>2</th>\n",
       "      <td>-134.917019</td>\n",
       "    </tr>\n",
       "    <tr>\n",
       "      <th>3</th>\n",
       "      <td>-120.605951</td>\n",
       "    </tr>\n",
       "    <tr>\n",
       "      <th>4</th>\n",
       "      <td>-129.894781</td>\n",
       "    </tr>\n",
       "    <tr>\n",
       "      <th>...</th>\n",
       "      <td>...</td>\n",
       "    </tr>\n",
       "    <tr>\n",
       "      <th>1106</th>\n",
       "      <td>-115.366669</td>\n",
       "    </tr>\n",
       "    <tr>\n",
       "      <th>1107</th>\n",
       "      <td>-119.954237</td>\n",
       "    </tr>\n",
       "    <tr>\n",
       "      <th>1108</th>\n",
       "      <td>-109.942155</td>\n",
       "    </tr>\n",
       "    <tr>\n",
       "      <th>1109</th>\n",
       "      <td>-111.515368</td>\n",
       "    </tr>\n",
       "    <tr>\n",
       "      <th>1110</th>\n",
       "      <td>-110.344221</td>\n",
       "    </tr>\n",
       "  </tbody>\n",
       "</table>\n",
       "<p>1111 rows × 1 columns</p>\n",
       "</div>"
      ],
      "text/plain": [
       "               A\n",
       "0    -122.740667\n",
       "1    -121.531419\n",
       "2    -134.917019\n",
       "3    -120.605951\n",
       "4    -129.894781\n",
       "...          ...\n",
       "1106 -115.366669\n",
       "1107 -119.954237\n",
       "1108 -109.942155\n",
       "1109 -111.515368\n",
       "1110 -110.344221\n",
       "\n",
       "[1111 rows x 1 columns]"
      ]
     },
     "execution_count": 51,
     "metadata": {},
     "output_type": "execute_result"
    }
   ],
   "source": [
    "X"
   ]
  },
  {
   "cell_type": "code",
   "execution_count": 52,
   "id": "400c41db",
   "metadata": {},
   "outputs": [
    {
     "data": {
      "text/html": [
       "<div>\n",
       "<style scoped>\n",
       "    .dataframe tbody tr th:only-of-type {\n",
       "        vertical-align: middle;\n",
       "    }\n",
       "\n",
       "    .dataframe tbody tr th {\n",
       "        vertical-align: top;\n",
       "    }\n",
       "\n",
       "    .dataframe thead th {\n",
       "        text-align: right;\n",
       "    }\n",
       "</style>\n",
       "<table border=\"1\" class=\"dataframe\">\n",
       "  <thead>\n",
       "    <tr style=\"text-align: right;\">\n",
       "      <th></th>\n",
       "      <th>B</th>\n",
       "    </tr>\n",
       "  </thead>\n",
       "  <tbody>\n",
       "    <tr>\n",
       "      <th>0</th>\n",
       "      <td>-130.572085</td>\n",
       "    </tr>\n",
       "    <tr>\n",
       "      <th>1</th>\n",
       "      <td>-129.938929</td>\n",
       "    </tr>\n",
       "    <tr>\n",
       "      <th>2</th>\n",
       "      <td>-130.141832</td>\n",
       "    </tr>\n",
       "    <tr>\n",
       "      <th>3</th>\n",
       "      <td>-125.760932</td>\n",
       "    </tr>\n",
       "    <tr>\n",
       "      <th>4</th>\n",
       "      <td>-112.785214</td>\n",
       "    </tr>\n",
       "    <tr>\n",
       "      <th>...</th>\n",
       "      <td>...</td>\n",
       "    </tr>\n",
       "    <tr>\n",
       "      <th>1106</th>\n",
       "      <td>121.000000</td>\n",
       "    </tr>\n",
       "    <tr>\n",
       "      <th>1107</th>\n",
       "      <td>123.609122</td>\n",
       "    </tr>\n",
       "    <tr>\n",
       "      <th>1108</th>\n",
       "      <td>127.197394</td>\n",
       "    </tr>\n",
       "    <tr>\n",
       "      <th>1109</th>\n",
       "      <td>128.170885</td>\n",
       "    </tr>\n",
       "    <tr>\n",
       "      <th>1110</th>\n",
       "      <td>123.087950</td>\n",
       "    </tr>\n",
       "  </tbody>\n",
       "</table>\n",
       "<p>1111 rows × 1 columns</p>\n",
       "</div>"
      ],
      "text/plain": [
       "               B\n",
       "0    -130.572085\n",
       "1    -129.938929\n",
       "2    -130.141832\n",
       "3    -125.760932\n",
       "4    -112.785214\n",
       "...          ...\n",
       "1106  121.000000\n",
       "1107  123.609122\n",
       "1108  127.197394\n",
       "1109  128.170885\n",
       "1110  123.087950\n",
       "\n",
       "[1111 rows x 1 columns]"
      ]
     },
     "execution_count": 52,
     "metadata": {},
     "output_type": "execute_result"
    }
   ],
   "source": [
    "Y"
   ]
  },
  {
   "cell_type": "code",
   "execution_count": 53,
   "id": "cc3bfee2",
   "metadata": {},
   "outputs": [
    {
     "data": {
      "text/plain": [
       "(1111, 1)"
      ]
     },
     "execution_count": 53,
     "metadata": {},
     "output_type": "execute_result"
    }
   ],
   "source": [
    "X.shape"
   ]
  },
  {
   "cell_type": "code",
   "execution_count": 54,
   "id": "5556f572",
   "metadata": {},
   "outputs": [
    {
     "data": {
      "text/plain": [
       "(1111, 1)"
      ]
     },
     "execution_count": 54,
     "metadata": {},
     "output_type": "execute_result"
    }
   ],
   "source": [
    "Y.shape"
   ]
  },
  {
   "cell_type": "code",
   "execution_count": null,
   "id": "9bee4f5b",
   "metadata": {},
   "outputs": [],
   "source": [
    "Creating train-test split"
   ]
  },
  {
   "cell_type": "code",
   "execution_count": 116,
   "id": "1a41bdc5",
   "metadata": {},
   "outputs": [],
   "source": [
    "from sklearn.model_selection import train_test_split\n",
    "from sklearn.metrics import r2_score\n",
    "from sklearn.linear_model import LinearRegression\n",
    "from sklearn.metrics import mean_squared_error,mean_absolute_error\n"
   ]
  },
  {
   "cell_type": "code",
   "execution_count": 117,
   "id": "ec6c1575",
   "metadata": {},
   "outputs": [],
   "source": [
    "x_train,x_test,y_train,y_test=train_test_split(X,Y,test_size=.33,random_state=10)"
   ]
  },
  {
   "cell_type": "code",
   "execution_count": 118,
   "id": "6fc7a7bb",
   "metadata": {},
   "outputs": [
    {
     "data": {
      "text/plain": [
       "((1111, 1), (1111, 1))"
      ]
     },
     "execution_count": 118,
     "metadata": {},
     "output_type": "execute_result"
    }
   ],
   "source": [
    "X.shape, Y.shape"
   ]
  },
  {
   "cell_type": "markdown",
   "id": "858284a8",
   "metadata": {},
   "source": [
    "### Regression Model Building"
   ]
  },
  {
   "cell_type": "code",
   "execution_count": 119,
   "id": "e286fb37",
   "metadata": {},
   "outputs": [],
   "source": [
    "model= LinearRegression().fit(x_train,y_train)"
   ]
  },
  {
   "cell_type": "code",
   "execution_count": 120,
   "id": "ed0d947c",
   "metadata": {},
   "outputs": [
    {
     "data": {
      "text/plain": [
       "array([[0.41057523]])"
      ]
     },
     "execution_count": 120,
     "metadata": {},
     "output_type": "execute_result"
    }
   ],
   "source": [
    "model.coef_"
   ]
  },
  {
   "cell_type": "code",
   "execution_count": 121,
   "id": "462b9a08",
   "metadata": {},
   "outputs": [
    {
     "data": {
      "text/plain": [
       "0.21867445274916286"
      ]
     },
     "execution_count": 121,
     "metadata": {},
     "output_type": "execute_result"
    }
   ],
   "source": [
    "model.score(x_train,y_train)"
   ]
  },
  {
   "cell_type": "code",
   "execution_count": 122,
   "id": "ab81c6e2",
   "metadata": {},
   "outputs": [
    {
     "data": {
      "text/plain": [
       "array([-26.21475823])"
      ]
     },
     "execution_count": 122,
     "metadata": {},
     "output_type": "execute_result"
    }
   ],
   "source": [
    "model.intercept_"
   ]
  },
  {
   "cell_type": "code",
   "execution_count": 123,
   "id": "ace82aab",
   "metadata": {},
   "outputs": [
    {
     "data": {
      "text/plain": [
       "array([[-28.31992595],\n",
       "       [ 17.56624631],\n",
       "       [-12.81632072],\n",
       "       [ -6.65769227],\n",
       "       [-71.65581754],\n",
       "       [-72.34972909],\n",
       "       [-80.97180893],\n",
       "       [-51.51095737],\n",
       "       [ 15.92394539],\n",
       "       [-59.93727505],\n",
       "       [-20.33278352],\n",
       "       [-29.32968366],\n",
       "       [-46.89040957],\n",
       "       [-37.58448493],\n",
       "       [-17.01383615],\n",
       "       [ 23.31429953],\n",
       "       [-22.38561832],\n",
       "       [-71.80669383],\n",
       "       [-79.6943656 ],\n",
       "       [-52.06640832],\n",
       "       [-36.94340235],\n",
       "       [-75.5967321 ],\n",
       "       [ 17.00662205],\n",
       "       [ 23.48951017],\n",
       "       [-77.68720708],\n",
       "       [-73.1888864 ],\n",
       "       [-35.88782028],\n",
       "       [ 25.62356296],\n",
       "       [ 20.85084815],\n",
       "       [-70.29685294],\n",
       "       [-32.6706798 ],\n",
       "       [  4.99558072],\n",
       "       [-23.4912767 ],\n",
       "       [-25.13357763],\n",
       "       [-23.85426396],\n",
       "       [ 14.10319796],\n",
       "       [-64.54879972],\n",
       "       [-74.53350829],\n",
       "       [ 27.94404794],\n",
       "       [-11.1740198 ],\n",
       "       [ 12.65368071],\n",
       "       [-81.399349  ],\n",
       "       [  2.77851252],\n",
       "       [  2.37496279],\n",
       "       [-11.50921718],\n",
       "       [-12.14236704],\n",
       "       [  4.90779184],\n",
       "       [ -0.09291754],\n",
       "       [-30.52790524],\n",
       "       [ 13.05203677],\n",
       "       [ 17.56624631],\n",
       "       [-21.4385701 ],\n",
       "       [-42.86447675],\n",
       "       [  8.9174303 ],\n",
       "       [-30.47105562],\n",
       "       [  7.76617704],\n",
       "       [ 14.43080818],\n",
       "       [-74.33980181],\n",
       "       [ -1.9224886 ],\n",
       "       [ -3.78366566],\n",
       "       [-18.9128609 ],\n",
       "       [ 26.97184348],\n",
       "       [-47.90369472],\n",
       "       [-34.16623269],\n",
       "       [-31.66208122],\n",
       "       [-20.62089483],\n",
       "       [-41.24952332],\n",
       "       [  0.64429972],\n",
       "       [  5.09290324],\n",
       "       [-30.0708671 ],\n",
       "       [-66.36360121],\n",
       "       [-74.6402601 ],\n",
       "       [-76.45548139],\n",
       "       [ 13.46049401],\n",
       "       [-76.16268944],\n",
       "       [ 15.55462115],\n",
       "       [-20.03890292],\n",
       "       [-16.92207302],\n",
       "       [  7.82030644],\n",
       "       [-36.63307423],\n",
       "       [ -7.81565901],\n",
       "       [-53.31637198],\n",
       "       [ -7.21011585],\n",
       "       [-68.62434514],\n",
       "       [-26.60350533],\n",
       "       [  7.40134077],\n",
       "       [-19.79609963],\n",
       "       [  4.33736835],\n",
       "       [ -1.88870809],\n",
       "       [ 21.67199861],\n",
       "       [ 28.0967444 ],\n",
       "       [-25.95472809],\n",
       "       [-23.24812516],\n",
       "       [-39.12913157],\n",
       "       [-41.72019993],\n",
       "       [-16.06698333],\n",
       "       [-13.52495111],\n",
       "       [-14.88151616],\n",
       "       [-11.44091675],\n",
       "       [-64.07680717],\n",
       "       [-73.75535667],\n",
       "       [ 10.17589217],\n",
       "       [-57.15844558],\n",
       "       [  5.23290203],\n",
       "       [  8.95383694],\n",
       "       [-38.45307729],\n",
       "       [ -9.33304341],\n",
       "       [  0.73266187],\n",
       "       [-73.58145478],\n",
       "       [ -5.01539135],\n",
       "       [-18.56437394],\n",
       "       [  1.71646597],\n",
       "       [-27.97234912],\n",
       "       [-69.19458913],\n",
       "       [-19.3855244 ],\n",
       "       [-16.51149779],\n",
       "       [  8.14169548],\n",
       "       [ -1.39211146],\n",
       "       [-69.06512725],\n",
       "       [ 24.21694749],\n",
       "       [-39.69319043],\n",
       "       [-60.28915834],\n",
       "       [-80.15065846],\n",
       "       [-80.00888877],\n",
       "       [ 15.99775105],\n",
       "       [ -0.64129982],\n",
       "       [-21.02782532],\n",
       "       [ -9.53171888],\n",
       "       [-21.82190531],\n",
       "       [ 17.19300768],\n",
       "       [-72.34972909],\n",
       "       [ -3.56255357],\n",
       "       [-56.2214672 ],\n",
       "       [  6.71920344],\n",
       "       [  9.63873506],\n",
       "       [  4.74684384],\n",
       "       [-16.11422053],\n",
       "       [-60.03247219],\n",
       "       [-39.67845957],\n",
       "       [-71.48711415],\n",
       "       [ 21.35543316],\n",
       "       [ -7.30435545],\n",
       "       [ -6.14770446],\n",
       "       [  5.58394635],\n",
       "       [-22.67012624],\n",
       "       [-20.20667486],\n",
       "       [-59.92648347],\n",
       "       [-12.57934363],\n",
       "       [-39.7654387 ],\n",
       "       [-11.17714879],\n",
       "       [-52.23968754],\n",
       "       [-80.37183181],\n",
       "       [  3.38669727],\n",
       "       [-37.86140976],\n",
       "       [-73.17087955],\n",
       "       [-14.9011838 ],\n",
       "       [  8.59185724],\n",
       "       [-75.63433093],\n",
       "       [-19.11556623],\n",
       "       [ 16.41053337],\n",
       "       [ 17.18546238],\n",
       "       [-39.59940924],\n",
       "       [-13.2692832 ],\n",
       "       [ 10.17589217],\n",
       "       [ 24.95975494],\n",
       "       [ -1.09799543],\n",
       "       [-26.77611125],\n",
       "       [ 22.65389523],\n",
       "       [  8.31308596],\n",
       "       [-73.66236688],\n",
       "       [-51.17719806],\n",
       "       [-38.28225727],\n",
       "       [-41.61129059],\n",
       "       [-30.25129296],\n",
       "       [-72.00607557],\n",
       "       [-14.08747286],\n",
       "       [ 16.10689599],\n",
       "       [-11.11184149],\n",
       "       [ 22.06666134],\n",
       "       [-37.0402593 ],\n",
       "       [-29.2300268 ],\n",
       "       [-51.25329527],\n",
       "       [-21.43840055],\n",
       "       [-77.68720708],\n",
       "       [-24.03261354],\n",
       "       [  4.79832111],\n",
       "       [-38.44945899],\n",
       "       [  3.10234831],\n",
       "       [ -1.48325216],\n",
       "       [-44.14591519],\n",
       "       [ 14.2962243 ],\n",
       "       [-68.5943272 ],\n",
       "       [ 20.02969769],\n",
       "       [  6.9398183 ],\n",
       "       [-22.15336008],\n",
       "       [-68.49146546],\n",
       "       [-47.11044989],\n",
       "       [  5.58853189],\n",
       "       [-75.2237557 ],\n",
       "       [-67.11400206],\n",
       "       [-70.70742817],\n",
       "       [-24.53921731],\n",
       "       [-35.34198495],\n",
       "       [-77.22369487],\n",
       "       [-13.22689595],\n",
       "       [  4.76394037],\n",
       "       [ 15.85102181],\n",
       "       [-75.6769277 ],\n",
       "       [-18.71819658],\n",
       "       [-22.26220829],\n",
       "       [-24.33774471],\n",
       "       [-68.48757715],\n",
       "       [-34.57680792],\n",
       "       [ -8.40072446],\n",
       "       [ 10.99704263],\n",
       "       [-48.12579051],\n",
       "       [-59.78763209],\n",
       "       [ 20.85084815],\n",
       "       [-58.38258814],\n",
       "       [ -9.40744525],\n",
       "       [ -2.24253974],\n",
       "       [-66.49580834],\n",
       "       [ -0.65530092],\n",
       "       [-44.02003821],\n",
       "       [  6.89129033],\n",
       "       [ 23.15632065],\n",
       "       [-80.55818275],\n",
       "       [-76.11254872],\n",
       "       [-18.97494917],\n",
       "       [-21.49586555],\n",
       "       [-76.86818357],\n",
       "       [-58.99991468],\n",
       "       [-50.59578874],\n",
       "       [-13.94625023],\n",
       "       [-19.71386075],\n",
       "       [ -9.34165197],\n",
       "       [-28.00650082],\n",
       "       [-16.18479285],\n",
       "       [-16.58958708],\n",
       "       [-18.56437394],\n",
       "       [  7.2804996 ],\n",
       "       [ 20.02969769],\n",
       "       [-77.27663185],\n",
       "       [-21.50488064],\n",
       "       [-72.70346297],\n",
       "       [ 13.57069576],\n",
       "       [ 19.82639549],\n",
       "       [-26.5163584 ],\n",
       "       [-22.41636134],\n",
       "       [-32.67746582],\n",
       "       [-46.89406482],\n",
       "       [-15.78196628],\n",
       "       [-65.91670609],\n",
       "       [-62.49592357],\n",
       "       [-12.10267652],\n",
       "       [-15.92676382],\n",
       "       [-10.47573796],\n",
       "       [  5.1186346 ],\n",
       "       [-20.20667486],\n",
       "       [-72.55511545],\n",
       "       [-66.84024041],\n",
       "       [  6.56939654],\n",
       "       [ -0.62944756],\n",
       "       [ -1.52112405],\n",
       "       [-37.82642487],\n",
       "       [-26.82857363],\n",
       "       [-41.01433398],\n",
       "       [-46.62744167],\n",
       "       [ 19.20854723],\n",
       "       [-75.57731107],\n",
       "       [  9.69520416],\n",
       "       [-71.06621582],\n",
       "       [-75.6349741 ],\n",
       "       [-44.19806185],\n",
       "       [-81.62715675],\n",
       "       [ 18.09939927],\n",
       "       [-33.20436327],\n",
       "       [ 20.01151693],\n",
       "       [  2.52459748],\n",
       "       [-45.2517639 ],\n",
       "       [ 21.66442543],\n",
       "       [-36.91863558],\n",
       "       [-79.95007214],\n",
       "       [-73.71980328],\n",
       "       [  1.28226312],\n",
       "       [-54.4945393 ],\n",
       "       [  7.90294957],\n",
       "       [-41.81354423],\n",
       "       [ -0.49906382],\n",
       "       [-11.29420019],\n",
       "       [-27.59702901],\n",
       "       [-47.11298391],\n",
       "       [-72.74785564],\n",
       "       [-22.10564946],\n",
       "       [ 12.63934355],\n",
       "       [ 15.92394539],\n",
       "       [  5.24898941],\n",
       "       [-76.73506588],\n",
       "       [-10.40601408],\n",
       "       [-25.48834519],\n",
       "       [-29.68860362],\n",
       "       [-48.94694097],\n",
       "       [ 25.202783  ],\n",
       "       [  1.96438756],\n",
       "       [-38.04322172],\n",
       "       [  6.07013987],\n",
       "       [ -5.55616755],\n",
       "       [ -5.21790831],\n",
       "       [  8.72828864],\n",
       "       [  6.59623393],\n",
       "       [ -4.68407575],\n",
       "       [  3.94830388],\n",
       "       [  2.95103585],\n",
       "       [-24.77338681],\n",
       "       [-72.39126149],\n",
       "       [ 22.49314907],\n",
       "       [ 10.94644417],\n",
       "       [ 25.48349522],\n",
       "       [  2.63394438],\n",
       "       [-17.33264825],\n",
       "       [ -7.02679936],\n",
       "       [-60.07625494],\n",
       "       [-36.97471059],\n",
       "       [ 14.14746846],\n",
       "       [ 20.02969769],\n",
       "       [-73.53874207],\n",
       "       [-38.81204159],\n",
       "       [-12.78077085],\n",
       "       [-61.94469959],\n",
       "       [-11.14992336],\n",
       "       [-19.29213347],\n",
       "       [ -7.19847886],\n",
       "       [-10.73911993],\n",
       "       [-36.09222009],\n",
       "       [-67.75040813],\n",
       "       [-73.97814025],\n",
       "       [ -4.07791792],\n",
       "       [-11.13878877],\n",
       "       [-33.680776  ],\n",
       "       [-32.32498383],\n",
       "       [ 18.20050913],\n",
       "       [-35.55503893],\n",
       "       [-77.68720708],\n",
       "       [ 27.24865051],\n",
       "       [ 17.02990749],\n",
       "       [-24.85599464],\n",
       "       [-27.26842247],\n",
       "       [-22.67012624],\n",
       "       [-24.31242717],\n",
       "       [-31.70278131],\n",
       "       [  4.42783895],\n",
       "       [  2.73621717],\n",
       "       [  5.24898941],\n",
       "       [-73.00703335],\n",
       "       [-19.75321483],\n",
       "       [ -5.83654181],\n",
       "       [  0.73266187],\n",
       "       [ -4.76331013],\n",
       "       [-73.06175954],\n",
       "       [ 14.6922197 ],\n",
       "       [ -9.88895881],\n",
       "       [  6.89129033],\n",
       "       [-32.9840767 ],\n",
       "       [-14.66550806],\n",
       "       [-75.45913138],\n",
       "       [ -1.32021428],\n",
       "       [-18.15379871]])"
      ]
     },
     "execution_count": 123,
     "metadata": {},
     "output_type": "execute_result"
    }
   ],
   "source": [
    "pred=model.predict(x_test)\n",
    "pred"
   ]
  },
  {
   "cell_type": "code",
   "execution_count": 124,
   "id": "abf2a887",
   "metadata": {},
   "outputs": [
    {
     "name": "stdout",
     "output_type": "stream",
     "text": [
      "Predicted values [[-28.31992595]\n",
      " [ 17.56624631]\n",
      " [-12.81632072]\n",
      " [ -6.65769227]\n",
      " [-71.65581754]\n",
      " [-72.34972909]\n",
      " [-80.97180893]\n",
      " [-51.51095737]\n",
      " [ 15.92394539]\n",
      " [-59.93727505]\n",
      " [-20.33278352]\n",
      " [-29.32968366]\n",
      " [-46.89040957]\n",
      " [-37.58448493]\n",
      " [-17.01383615]\n",
      " [ 23.31429953]\n",
      " [-22.38561832]\n",
      " [-71.80669383]\n",
      " [-79.6943656 ]\n",
      " [-52.06640832]\n",
      " [-36.94340235]\n",
      " [-75.5967321 ]\n",
      " [ 17.00662205]\n",
      " [ 23.48951017]\n",
      " [-77.68720708]\n",
      " [-73.1888864 ]\n",
      " [-35.88782028]\n",
      " [ 25.62356296]\n",
      " [ 20.85084815]\n",
      " [-70.29685294]\n",
      " [-32.6706798 ]\n",
      " [  4.99558072]\n",
      " [-23.4912767 ]\n",
      " [-25.13357763]\n",
      " [-23.85426396]\n",
      " [ 14.10319796]\n",
      " [-64.54879972]\n",
      " [-74.53350829]\n",
      " [ 27.94404794]\n",
      " [-11.1740198 ]\n",
      " [ 12.65368071]\n",
      " [-81.399349  ]\n",
      " [  2.77851252]\n",
      " [  2.37496279]\n",
      " [-11.50921718]\n",
      " [-12.14236704]\n",
      " [  4.90779184]\n",
      " [ -0.09291754]\n",
      " [-30.52790524]\n",
      " [ 13.05203677]\n",
      " [ 17.56624631]\n",
      " [-21.4385701 ]\n",
      " [-42.86447675]\n",
      " [  8.9174303 ]\n",
      " [-30.47105562]\n",
      " [  7.76617704]\n",
      " [ 14.43080818]\n",
      " [-74.33980181]\n",
      " [ -1.9224886 ]\n",
      " [ -3.78366566]\n",
      " [-18.9128609 ]\n",
      " [ 26.97184348]\n",
      " [-47.90369472]\n",
      " [-34.16623269]\n",
      " [-31.66208122]\n",
      " [-20.62089483]\n",
      " [-41.24952332]\n",
      " [  0.64429972]\n",
      " [  5.09290324]\n",
      " [-30.0708671 ]\n",
      " [-66.36360121]\n",
      " [-74.6402601 ]\n",
      " [-76.45548139]\n",
      " [ 13.46049401]\n",
      " [-76.16268944]\n",
      " [ 15.55462115]\n",
      " [-20.03890292]\n",
      " [-16.92207302]\n",
      " [  7.82030644]\n",
      " [-36.63307423]\n",
      " [ -7.81565901]\n",
      " [-53.31637198]\n",
      " [ -7.21011585]\n",
      " [-68.62434514]\n",
      " [-26.60350533]\n",
      " [  7.40134077]\n",
      " [-19.79609963]\n",
      " [  4.33736835]\n",
      " [ -1.88870809]\n",
      " [ 21.67199861]\n",
      " [ 28.0967444 ]\n",
      " [-25.95472809]\n",
      " [-23.24812516]\n",
      " [-39.12913157]\n",
      " [-41.72019993]\n",
      " [-16.06698333]\n",
      " [-13.52495111]\n",
      " [-14.88151616]\n",
      " [-11.44091675]\n",
      " [-64.07680717]\n",
      " [-73.75535667]\n",
      " [ 10.17589217]\n",
      " [-57.15844558]\n",
      " [  5.23290203]\n",
      " [  8.95383694]\n",
      " [-38.45307729]\n",
      " [ -9.33304341]\n",
      " [  0.73266187]\n",
      " [-73.58145478]\n",
      " [ -5.01539135]\n",
      " [-18.56437394]\n",
      " [  1.71646597]\n",
      " [-27.97234912]\n",
      " [-69.19458913]\n",
      " [-19.3855244 ]\n",
      " [-16.51149779]\n",
      " [  8.14169548]\n",
      " [ -1.39211146]\n",
      " [-69.06512725]\n",
      " [ 24.21694749]\n",
      " [-39.69319043]\n",
      " [-60.28915834]\n",
      " [-80.15065846]\n",
      " [-80.00888877]\n",
      " [ 15.99775105]\n",
      " [ -0.64129982]\n",
      " [-21.02782532]\n",
      " [ -9.53171888]\n",
      " [-21.82190531]\n",
      " [ 17.19300768]\n",
      " [-72.34972909]\n",
      " [ -3.56255357]\n",
      " [-56.2214672 ]\n",
      " [  6.71920344]\n",
      " [  9.63873506]\n",
      " [  4.74684384]\n",
      " [-16.11422053]\n",
      " [-60.03247219]\n",
      " [-39.67845957]\n",
      " [-71.48711415]\n",
      " [ 21.35543316]\n",
      " [ -7.30435545]\n",
      " [ -6.14770446]\n",
      " [  5.58394635]\n",
      " [-22.67012624]\n",
      " [-20.20667486]\n",
      " [-59.92648347]\n",
      " [-12.57934363]\n",
      " [-39.7654387 ]\n",
      " [-11.17714879]\n",
      " [-52.23968754]\n",
      " [-80.37183181]\n",
      " [  3.38669727]\n",
      " [-37.86140976]\n",
      " [-73.17087955]\n",
      " [-14.9011838 ]\n",
      " [  8.59185724]\n",
      " [-75.63433093]\n",
      " [-19.11556623]\n",
      " [ 16.41053337]\n",
      " [ 17.18546238]\n",
      " [-39.59940924]\n",
      " [-13.2692832 ]\n",
      " [ 10.17589217]\n",
      " [ 24.95975494]\n",
      " [ -1.09799543]\n",
      " [-26.77611125]\n",
      " [ 22.65389523]\n",
      " [  8.31308596]\n",
      " [-73.66236688]\n",
      " [-51.17719806]\n",
      " [-38.28225727]\n",
      " [-41.61129059]\n",
      " [-30.25129296]\n",
      " [-72.00607557]\n",
      " [-14.08747286]\n",
      " [ 16.10689599]\n",
      " [-11.11184149]\n",
      " [ 22.06666134]\n",
      " [-37.0402593 ]\n",
      " [-29.2300268 ]\n",
      " [-51.25329527]\n",
      " [-21.43840055]\n",
      " [-77.68720708]\n",
      " [-24.03261354]\n",
      " [  4.79832111]\n",
      " [-38.44945899]\n",
      " [  3.10234831]\n",
      " [ -1.48325216]\n",
      " [-44.14591519]\n",
      " [ 14.2962243 ]\n",
      " [-68.5943272 ]\n",
      " [ 20.02969769]\n",
      " [  6.9398183 ]\n",
      " [-22.15336008]\n",
      " [-68.49146546]\n",
      " [-47.11044989]\n",
      " [  5.58853189]\n",
      " [-75.2237557 ]\n",
      " [-67.11400206]\n",
      " [-70.70742817]\n",
      " [-24.53921731]\n",
      " [-35.34198495]\n",
      " [-77.22369487]\n",
      " [-13.22689595]\n",
      " [  4.76394037]\n",
      " [ 15.85102181]\n",
      " [-75.6769277 ]\n",
      " [-18.71819658]\n",
      " [-22.26220829]\n",
      " [-24.33774471]\n",
      " [-68.48757715]\n",
      " [-34.57680792]\n",
      " [ -8.40072446]\n",
      " [ 10.99704263]\n",
      " [-48.12579051]\n",
      " [-59.78763209]\n",
      " [ 20.85084815]\n",
      " [-58.38258814]\n",
      " [ -9.40744525]\n",
      " [ -2.24253974]\n",
      " [-66.49580834]\n",
      " [ -0.65530092]\n",
      " [-44.02003821]\n",
      " [  6.89129033]\n",
      " [ 23.15632065]\n",
      " [-80.55818275]\n",
      " [-76.11254872]\n",
      " [-18.97494917]\n",
      " [-21.49586555]\n",
      " [-76.86818357]\n",
      " [-58.99991468]\n",
      " [-50.59578874]\n",
      " [-13.94625023]\n",
      " [-19.71386075]\n",
      " [ -9.34165197]\n",
      " [-28.00650082]\n",
      " [-16.18479285]\n",
      " [-16.58958708]\n",
      " [-18.56437394]\n",
      " [  7.2804996 ]\n",
      " [ 20.02969769]\n",
      " [-77.27663185]\n",
      " [-21.50488064]\n",
      " [-72.70346297]\n",
      " [ 13.57069576]\n",
      " [ 19.82639549]\n",
      " [-26.5163584 ]\n",
      " [-22.41636134]\n",
      " [-32.67746582]\n",
      " [-46.89406482]\n",
      " [-15.78196628]\n",
      " [-65.91670609]\n",
      " [-62.49592357]\n",
      " [-12.10267652]\n",
      " [-15.92676382]\n",
      " [-10.47573796]\n",
      " [  5.1186346 ]\n",
      " [-20.20667486]\n",
      " [-72.55511545]\n",
      " [-66.84024041]\n",
      " [  6.56939654]\n",
      " [ -0.62944756]\n",
      " [ -1.52112405]\n",
      " [-37.82642487]\n",
      " [-26.82857363]\n",
      " [-41.01433398]\n",
      " [-46.62744167]\n",
      " [ 19.20854723]\n",
      " [-75.57731107]\n",
      " [  9.69520416]\n",
      " [-71.06621582]\n",
      " [-75.6349741 ]\n",
      " [-44.19806185]\n",
      " [-81.62715675]\n",
      " [ 18.09939927]\n",
      " [-33.20436327]\n",
      " [ 20.01151693]\n",
      " [  2.52459748]\n",
      " [-45.2517639 ]\n",
      " [ 21.66442543]\n",
      " [-36.91863558]\n",
      " [-79.95007214]\n",
      " [-73.71980328]\n",
      " [  1.28226312]\n",
      " [-54.4945393 ]\n",
      " [  7.90294957]\n",
      " [-41.81354423]\n",
      " [ -0.49906382]\n",
      " [-11.29420019]\n",
      " [-27.59702901]\n",
      " [-47.11298391]\n",
      " [-72.74785564]\n",
      " [-22.10564946]\n",
      " [ 12.63934355]\n",
      " [ 15.92394539]\n",
      " [  5.24898941]\n",
      " [-76.73506588]\n",
      " [-10.40601408]\n",
      " [-25.48834519]\n",
      " [-29.68860362]\n",
      " [-48.94694097]\n",
      " [ 25.202783  ]\n",
      " [  1.96438756]\n",
      " [-38.04322172]\n",
      " [  6.07013987]\n",
      " [ -5.55616755]\n",
      " [ -5.21790831]\n",
      " [  8.72828864]\n",
      " [  6.59623393]\n",
      " [ -4.68407575]\n",
      " [  3.94830388]\n",
      " [  2.95103585]\n",
      " [-24.77338681]\n",
      " [-72.39126149]\n",
      " [ 22.49314907]\n",
      " [ 10.94644417]\n",
      " [ 25.48349522]\n",
      " [  2.63394438]\n",
      " [-17.33264825]\n",
      " [ -7.02679936]\n",
      " [-60.07625494]\n",
      " [-36.97471059]\n",
      " [ 14.14746846]\n",
      " [ 20.02969769]\n",
      " [-73.53874207]\n",
      " [-38.81204159]\n",
      " [-12.78077085]\n",
      " [-61.94469959]\n",
      " [-11.14992336]\n",
      " [-19.29213347]\n",
      " [ -7.19847886]\n",
      " [-10.73911993]\n",
      " [-36.09222009]\n",
      " [-67.75040813]\n",
      " [-73.97814025]\n",
      " [ -4.07791792]\n",
      " [-11.13878877]\n",
      " [-33.680776  ]\n",
      " [-32.32498383]\n",
      " [ 18.20050913]\n",
      " [-35.55503893]\n",
      " [-77.68720708]\n",
      " [ 27.24865051]\n",
      " [ 17.02990749]\n",
      " [-24.85599464]\n",
      " [-27.26842247]\n",
      " [-22.67012624]\n",
      " [-24.31242717]\n",
      " [-31.70278131]\n",
      " [  4.42783895]\n",
      " [  2.73621717]\n",
      " [  5.24898941]\n",
      " [-73.00703335]\n",
      " [-19.75321483]\n",
      " [ -5.83654181]\n",
      " [  0.73266187]\n",
      " [ -4.76331013]\n",
      " [-73.06175954]\n",
      " [ 14.6922197 ]\n",
      " [ -9.88895881]\n",
      " [  6.89129033]\n",
      " [-32.9840767 ]\n",
      " [-14.66550806]\n",
      " [-75.45913138]\n",
      " [ -1.32021428]\n",
      " [-18.15379871]]\n"
     ]
    }
   ],
   "source": [
    "print('Predicted values',pred)"
   ]
  },
  {
   "cell_type": "code",
   "execution_count": 125,
   "id": "086a8c0e",
   "metadata": {},
   "outputs": [
    {
     "data": {
      "text/html": [
       "<div>\n",
       "<style scoped>\n",
       "    .dataframe tbody tr th:only-of-type {\n",
       "        vertical-align: middle;\n",
       "    }\n",
       "\n",
       "    .dataframe tbody tr th {\n",
       "        vertical-align: top;\n",
       "    }\n",
       "\n",
       "    .dataframe thead th {\n",
       "        text-align: right;\n",
       "    }\n",
       "</style>\n",
       "<table border=\"1\" class=\"dataframe\">\n",
       "  <thead>\n",
       "    <tr style=\"text-align: right;\">\n",
       "      <th></th>\n",
       "      <th>0</th>\n",
       "    </tr>\n",
       "  </thead>\n",
       "  <tbody>\n",
       "    <tr>\n",
       "      <th>0</th>\n",
       "      <td>-28.319926</td>\n",
       "    </tr>\n",
       "    <tr>\n",
       "      <th>1</th>\n",
       "      <td>17.566246</td>\n",
       "    </tr>\n",
       "    <tr>\n",
       "      <th>2</th>\n",
       "      <td>-12.816321</td>\n",
       "    </tr>\n",
       "    <tr>\n",
       "      <th>3</th>\n",
       "      <td>-6.657692</td>\n",
       "    </tr>\n",
       "    <tr>\n",
       "      <th>4</th>\n",
       "      <td>-71.655818</td>\n",
       "    </tr>\n",
       "    <tr>\n",
       "      <th>...</th>\n",
       "      <td>...</td>\n",
       "    </tr>\n",
       "    <tr>\n",
       "      <th>362</th>\n",
       "      <td>-32.984077</td>\n",
       "    </tr>\n",
       "    <tr>\n",
       "      <th>363</th>\n",
       "      <td>-14.665508</td>\n",
       "    </tr>\n",
       "    <tr>\n",
       "      <th>364</th>\n",
       "      <td>-75.459131</td>\n",
       "    </tr>\n",
       "    <tr>\n",
       "      <th>365</th>\n",
       "      <td>-1.320214</td>\n",
       "    </tr>\n",
       "    <tr>\n",
       "      <th>366</th>\n",
       "      <td>-18.153799</td>\n",
       "    </tr>\n",
       "  </tbody>\n",
       "</table>\n",
       "<p>367 rows × 1 columns</p>\n",
       "</div>"
      ],
      "text/plain": [
       "             0\n",
       "0   -28.319926\n",
       "1    17.566246\n",
       "2   -12.816321\n",
       "3    -6.657692\n",
       "4   -71.655818\n",
       "..         ...\n",
       "362 -32.984077\n",
       "363 -14.665508\n",
       "364 -75.459131\n",
       "365  -1.320214\n",
       "366 -18.153799\n",
       "\n",
       "[367 rows x 1 columns]"
      ]
     },
     "execution_count": 125,
     "metadata": {},
     "output_type": "execute_result"
    }
   ],
   "source": [
    "preddf=pd.DataFrame(data=pred)\n",
    "preddf"
   ]
  },
  {
   "cell_type": "code",
   "execution_count": 126,
   "id": "0f00d399",
   "metadata": {},
   "outputs": [
    {
     "data": {
      "text/plain": [
       "0.16859174992228798"
      ]
     },
     "execution_count": 126,
     "metadata": {},
     "output_type": "execute_result"
    }
   ],
   "source": [
    "model.score(x_test,y_test)"
   ]
  },
  {
   "cell_type": "code",
   "execution_count": 127,
   "id": "d9d4ed4e",
   "metadata": {},
   "outputs": [
    {
     "name": "stdout",
     "output_type": "stream",
     "text": [
      "Mean absolute error:: 47.24815529047443\n",
      "Mean squared error:: 3723.3678101214896\n",
      "Root mean square :: 61.01940519311451\n"
     ]
    }
   ],
   "source": [
    "print(\"Mean absolute error::\",mean_absolute_error(y_test, pred))\n",
    "print(\"Mean squared error::\",mean_squared_error(y_test,pred))\n",
    "print(\"Root mean square ::\",np.sqrt(mean_squared_error(y_test,pred)))"
   ]
  },
  {
   "cell_type": "code",
   "execution_count": 129,
   "id": "6b687498",
   "metadata": {},
   "outputs": [
    {
     "name": "stdout",
     "output_type": "stream",
     "text": [
      "R2 score:: 0.16859174992228798\n"
     ]
    }
   ],
   "source": [
    "print('R2 score::',r2_score(y_test,pred))"
   ]
  },
  {
   "cell_type": "code",
   "execution_count": 130,
   "id": "abf0c720",
   "metadata": {},
   "outputs": [],
   "source": [
    "t=np.array ( [2,0.365,0.095,0.5140,0.1010,0.1500,0.1510])"
   ]
  },
  {
   "cell_type": "markdown",
   "id": "6c2a3b6d",
   "metadata": {},
   "source": [
    "### Saving the model"
   ]
  },
  {
   "cell_type": "code",
   "execution_count": 133,
   "id": "ef1cf685",
   "metadata": {},
   "outputs": [],
   "source": [
    "import joblib\n",
    "\n",
    "joblib.dump(preddf,'model.obj')\n",
    "\n",
    "loadmodel=joblib.load('model.obj')\n"
   ]
  },
  {
   "cell_type": "code",
   "execution_count": 134,
   "id": "8bb62e12",
   "metadata": {},
   "outputs": [
    {
     "name": "stdout",
     "output_type": "stream",
     "text": [
      "             0\n",
      "0   -28.319926\n",
      "1    17.566246\n",
      "2   -12.816321\n",
      "3    -6.657692\n",
      "4   -71.655818\n",
      "..         ...\n",
      "362 -32.984077\n",
      "363 -14.665508\n",
      "364 -75.459131\n",
      "365  -1.320214\n",
      "366 -18.153799\n",
      "\n",
      "[367 rows x 1 columns]\n"
     ]
    }
   ],
   "source": [
    "print(loadmodel)"
   ]
  },
  {
   "cell_type": "code",
   "execution_count": null,
   "id": "307d5dd0",
   "metadata": {},
   "outputs": [],
   "source": []
  },
  {
   "cell_type": "code",
   "execution_count": null,
   "id": "80bb48c0",
   "metadata": {},
   "outputs": [],
   "source": []
  },
  {
   "cell_type": "code",
   "execution_count": null,
   "id": "e5ebfd86",
   "metadata": {},
   "outputs": [],
   "source": []
  },
  {
   "cell_type": "code",
   "execution_count": null,
   "id": "899b2c47",
   "metadata": {},
   "outputs": [],
   "source": []
  },
  {
   "cell_type": "code",
   "execution_count": null,
   "id": "ba8f28e9",
   "metadata": {},
   "outputs": [],
   "source": []
  },
  {
   "cell_type": "code",
   "execution_count": null,
   "id": "c8265a15",
   "metadata": {},
   "outputs": [],
   "source": []
  },
  {
   "cell_type": "code",
   "execution_count": null,
   "id": "2533f573",
   "metadata": {},
   "outputs": [],
   "source": []
  },
  {
   "cell_type": "code",
   "execution_count": null,
   "id": "5337c738",
   "metadata": {},
   "outputs": [],
   "source": []
  },
  {
   "cell_type": "code",
   "execution_count": null,
   "id": "f625cc44",
   "metadata": {},
   "outputs": [],
   "source": []
  },
  {
   "cell_type": "code",
   "execution_count": null,
   "id": "68c5e561",
   "metadata": {},
   "outputs": [],
   "source": []
  },
  {
   "cell_type": "code",
   "execution_count": null,
   "id": "a3002f4e",
   "metadata": {},
   "outputs": [],
   "source": []
  },
  {
   "cell_type": "code",
   "execution_count": null,
   "id": "dbc54beb",
   "metadata": {},
   "outputs": [],
   "source": []
  },
  {
   "cell_type": "code",
   "execution_count": null,
   "id": "43b30df8",
   "metadata": {},
   "outputs": [],
   "source": []
  },
  {
   "cell_type": "code",
   "execution_count": null,
   "id": "a43f395e",
   "metadata": {},
   "outputs": [],
   "source": []
  },
  {
   "cell_type": "code",
   "execution_count": null,
   "id": "b181bedb",
   "metadata": {},
   "outputs": [],
   "source": []
  },
  {
   "cell_type": "code",
   "execution_count": null,
   "id": "c5f261c3",
   "metadata": {},
   "outputs": [],
   "source": []
  },
  {
   "cell_type": "code",
   "execution_count": null,
   "id": "82368657",
   "metadata": {},
   "outputs": [],
   "source": []
  },
  {
   "cell_type": "code",
   "execution_count": null,
   "id": "621f7695",
   "metadata": {},
   "outputs": [],
   "source": []
  },
  {
   "cell_type": "markdown",
   "id": "77ff09a5",
   "metadata": {},
   "source": []
  }
 ],
 "metadata": {
  "kernelspec": {
   "display_name": "Python 3 (ipykernel)",
   "language": "python",
   "name": "python3"
  },
  "language_info": {
   "codemirror_mode": {
    "name": "ipython",
    "version": 3
   },
   "file_extension": ".py",
   "mimetype": "text/x-python",
   "name": "python",
   "nbconvert_exporter": "python",
   "pygments_lexer": "ipython3",
   "version": "3.8.5"
  }
 },
 "nbformat": 4,
 "nbformat_minor": 5
}
